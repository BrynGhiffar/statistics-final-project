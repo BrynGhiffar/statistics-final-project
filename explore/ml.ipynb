{
 "cells": [
  {
   "cell_type": "markdown",
   "metadata": {},
   "source": [
    "# Statistics Final Project Machine Learning Model"
   ]
  },
  {
   "cell_type": "code",
   "execution_count": 2,
   "metadata": {},
   "outputs": [
    {
     "data": {
      "text/html": [
       "<div>\n",
       "<style scoped>\n",
       "    .dataframe tbody tr th:only-of-type {\n",
       "        vertical-align: middle;\n",
       "    }\n",
       "\n",
       "    .dataframe tbody tr th {\n",
       "        vertical-align: top;\n",
       "    }\n",
       "\n",
       "    .dataframe thead th {\n",
       "        text-align: right;\n",
       "    }\n",
       "</style>\n",
       "<table border=\"1\" class=\"dataframe\">\n",
       "  <thead>\n",
       "    <tr style=\"text-align: right;\">\n",
       "      <th></th>\n",
       "      <th>Vmag</th>\n",
       "      <th>Plx</th>\n",
       "      <th>e_Plx</th>\n",
       "      <th>B-V</th>\n",
       "      <th>SpType</th>\n",
       "      <th>Amag</th>\n",
       "      <th>TargetClass</th>\n",
       "    </tr>\n",
       "  </thead>\n",
       "  <tbody>\n",
       "    <tr>\n",
       "      <th>0</th>\n",
       "      <td>10.00</td>\n",
       "      <td>31.66</td>\n",
       "      <td>6.19</td>\n",
       "      <td>1.213</td>\n",
       "      <td>K7V</td>\n",
       "      <td>22.502556</td>\n",
       "      <td>1</td>\n",
       "    </tr>\n",
       "    <tr>\n",
       "      <th>1</th>\n",
       "      <td>8.26</td>\n",
       "      <td>3.21</td>\n",
       "      <td>1.00</td>\n",
       "      <td>1.130</td>\n",
       "      <td>K0III</td>\n",
       "      <td>15.792525</td>\n",
       "      <td>0</td>\n",
       "    </tr>\n",
       "    <tr>\n",
       "      <th>2</th>\n",
       "      <td>8.27</td>\n",
       "      <td>12.75</td>\n",
       "      <td>1.06</td>\n",
       "      <td>0.596</td>\n",
       "      <td>F9V</td>\n",
       "      <td>18.797552</td>\n",
       "      <td>1</td>\n",
       "    </tr>\n",
       "    <tr>\n",
       "      <th>3</th>\n",
       "      <td>6.54</td>\n",
       "      <td>5.23</td>\n",
       "      <td>0.76</td>\n",
       "      <td>1.189</td>\n",
       "      <td>K1III</td>\n",
       "      <td>15.132508</td>\n",
       "      <td>0</td>\n",
       "    </tr>\n",
       "    <tr>\n",
       "      <th>4</th>\n",
       "      <td>8.52</td>\n",
       "      <td>0.96</td>\n",
       "      <td>0.72</td>\n",
       "      <td>0.173</td>\n",
       "      <td>B8V</td>\n",
       "      <td>13.431356</td>\n",
       "      <td>1</td>\n",
       "    </tr>\n",
       "  </tbody>\n",
       "</table>\n",
       "</div>"
      ],
      "text/plain": [
       "    Vmag    Plx  e_Plx    B-V SpType       Amag  TargetClass\n",
       "0  10.00  31.66   6.19  1.213    K7V  22.502556            1\n",
       "1   8.26   3.21   1.00  1.130  K0III  15.792525            0\n",
       "2   8.27  12.75   1.06  0.596    F9V  18.797552            1\n",
       "3   6.54   5.23   0.76  1.189  K1III  15.132508            0\n",
       "4   8.52   0.96   0.72  0.173    B8V  13.431356            1"
      ]
     },
     "execution_count": 2,
     "metadata": {},
     "output_type": "execute_result"
    }
   ],
   "source": [
    "import pandas as pd\r\n",
    "# Imports\r\n",
    "source = lambda x : f'../star-categorization-giants-and-dwarfs/{x}'\r\n",
    "\r\n",
    "X_full = pd.read_csv(source('Star39552_balanced.csv'))\r\n",
    "X_full.head()"
   ]
  },
  {
   "cell_type": "markdown",
   "metadata": {},
   "source": [
    "Selecting target and predictor variables to be 'Amag' and 'B-V'"
   ]
  },
  {
   "cell_type": "code",
   "execution_count": 3,
   "metadata": {},
   "outputs": [],
   "source": [
    "from sklearn.model_selection import train_test_split\n",
    "\n",
    "X_cols = ['Amag', 'B-V']\n",
    "y_cols = ['TargetClass']\n",
    "\n",
    "# print(list(set(X_full.columns) - set(X_cols + y_cols)))\n",
    "\n",
    "X_full.dropna(axis=0, subset=['TargetClass'], inplace=True)\n",
    "y = X_full[y_cols]\n",
    "X_full.drop(list(set(X_full.columns) - set(X_cols)), axis=1, inplace=True)\n",
    "\n",
    "X_train_full, X_valid_full, y_train, y_full = train_test_split(X_full, y, train_size=0.8, test_size=0.2, random_state = 100)"
   ]
  },
  {
   "cell_type": "code",
   "execution_count": 4,
   "metadata": {},
   "outputs": [
    {
     "name": "stdout",
     "output_type": "stream",
     "text": [
      "         B-V       Amag\n",
      "34566  1.535  14.652069\n",
      "36393  0.526  13.954068\n",
      "22237  1.079  14.161129\n",
      "34775  0.962  15.951990\n",
      "28850  0.066  12.376615\n",
      "         B-V       Amag\n",
      "2438   0.331  17.863170\n",
      "20570  0.481  18.138397\n",
      "18388  1.563  13.793582\n",
      "11136  1.747  15.034814\n",
      "37525  1.352  14.257706\n",
      "(31641, 2)\n",
      "(7911, 2)\n"
     ]
    }
   ],
   "source": [
    "print(X_train_full.head())\n",
    "print(X_valid_full.head())\n",
    "print(X_train_full.shape)\n",
    "print(X_valid_full.shape)"
   ]
  },
  {
   "cell_type": "code",
   "execution_count": 5,
   "metadata": {},
   "outputs": [
    {
     "name": "stdout",
     "output_type": "stream",
     "text": [
      "MSE: 0.18897737327771458\n"
     ]
    },
    {
     "name": "stderr",
     "output_type": "stream",
     "text": [
      "/tmp/ipykernel_38748/2554294135.py:5: DataConversionWarning: A column-vector y was passed when a 1d array was expected. Please change the shape of y to (n_samples,), for example using ravel().\n",
      "  model.fit(X_train_full, y_train)\n"
     ]
    }
   ],
   "source": [
    "from sklearn.ensemble import RandomForestRegressor\n",
    "from sklearn.metrics import mean_squared_error\n",
    "\n",
    "model = RandomForestRegressor(n_estimators=1, random_state=0)\n",
    "model.fit(X_train_full, y_train)\n",
    "y_pred = model.predict(X_valid_full)\n",
    "print(f\"MSE: {mean_squared_error(y_pred, y_full)}\")"
   ]
  },
  {
   "cell_type": "code",
   "execution_count": 6,
   "metadata": {},
   "outputs": [
    {
     "name": "stdout",
     "output_type": "stream",
     "text": [
      "[1. 1. 0. ... 0. 0. 1.]\n"
     ]
    }
   ],
   "source": [
    "print(y_pred)"
   ]
  },
  {
   "cell_type": "code",
   "execution_count": 7,
   "metadata": {},
   "outputs": [
    {
     "name": "stdout",
     "output_type": "stream",
     "text": [
      "       TargetClass\n",
      "2438             0\n",
      "20570            1\n",
      "18388            0\n",
      "11136            0\n",
      "37525            0\n",
      "...            ...\n",
      "4977             0\n",
      "376              1\n",
      "15970            0\n",
      "35839            1\n",
      "23676            0\n",
      "\n",
      "[7911 rows x 1 columns]\n"
     ]
    }
   ],
   "source": [
    "print(y_full)"
   ]
  },
  {
   "cell_type": "code",
   "execution_count": 9,
   "metadata": {},
   "outputs": [
    {
     "data": {
      "text/plain": [
       "array([[3202,  769],\n",
       "       [ 726, 3214]])"
      ]
     },
     "execution_count": 9,
     "metadata": {},
     "output_type": "execute_result"
    }
   ],
   "source": [
    "from sklearn.metrics import confusion_matrix\n",
    "\n",
    "confusion_matrix(y_full, y_pred, labels=[0, 1])"
   ]
  },
  {
   "cell_type": "code",
   "execution_count": null,
   "metadata": {},
   "outputs": [],
   "source": []
  }
 ],
 "metadata": {
  "interpreter": {
   "hash": "1667e535b8018da9161811889436fa88fd72306f3eaa3295c59e1d9dc3a5dad2"
  },
  "kernelspec": {
   "display_name": "Python 3.9.1 64-bit",
   "name": "python3"
  },
  "language_info": {
   "name": "python",
   "version": ""
  },
  "orig_nbformat": 4
 },
 "nbformat": 4,
 "nbformat_minor": 2
}