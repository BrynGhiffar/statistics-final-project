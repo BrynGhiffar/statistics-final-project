{
 "cells": [
  {
   "cell_type": "markdown",
   "metadata": {},
   "source": [
    "# Statistics Final Project Machine Learning Model\n",
    "\n",
    "## Preparing the data"
   ]
  },
  {
   "cell_type": "code",
   "execution_count": 1,
   "metadata": {},
   "outputs": [
    {
     "data": {
      "text/html": [
       "<div>\n",
       "<style scoped>\n",
       "    .dataframe tbody tr th:only-of-type {\n",
       "        vertical-align: middle;\n",
       "    }\n",
       "\n",
       "    .dataframe tbody tr th {\n",
       "        vertical-align: top;\n",
       "    }\n",
       "\n",
       "    .dataframe thead th {\n",
       "        text-align: right;\n",
       "    }\n",
       "</style>\n",
       "<table border=\"1\" class=\"dataframe\">\n",
       "  <thead>\n",
       "    <tr style=\"text-align: right;\">\n",
       "      <th></th>\n",
       "      <th>Vmag</th>\n",
       "      <th>Plx</th>\n",
       "      <th>e_Plx</th>\n",
       "      <th>B-V</th>\n",
       "      <th>SpType</th>\n",
       "      <th>Amag</th>\n",
       "      <th>TargetClass</th>\n",
       "    </tr>\n",
       "  </thead>\n",
       "  <tbody>\n",
       "    <tr>\n",
       "      <th>0</th>\n",
       "      <td>10.00</td>\n",
       "      <td>31.66</td>\n",
       "      <td>6.19</td>\n",
       "      <td>1.213</td>\n",
       "      <td>K7V</td>\n",
       "      <td>22.502556</td>\n",
       "      <td>1</td>\n",
       "    </tr>\n",
       "    <tr>\n",
       "      <th>1</th>\n",
       "      <td>8.26</td>\n",
       "      <td>3.21</td>\n",
       "      <td>1.00</td>\n",
       "      <td>1.130</td>\n",
       "      <td>K0III</td>\n",
       "      <td>15.792525</td>\n",
       "      <td>0</td>\n",
       "    </tr>\n",
       "    <tr>\n",
       "      <th>2</th>\n",
       "      <td>8.27</td>\n",
       "      <td>12.75</td>\n",
       "      <td>1.06</td>\n",
       "      <td>0.596</td>\n",
       "      <td>F9V</td>\n",
       "      <td>18.797552</td>\n",
       "      <td>1</td>\n",
       "    </tr>\n",
       "    <tr>\n",
       "      <th>3</th>\n",
       "      <td>6.54</td>\n",
       "      <td>5.23</td>\n",
       "      <td>0.76</td>\n",
       "      <td>1.189</td>\n",
       "      <td>K1III</td>\n",
       "      <td>15.132508</td>\n",
       "      <td>0</td>\n",
       "    </tr>\n",
       "    <tr>\n",
       "      <th>4</th>\n",
       "      <td>8.52</td>\n",
       "      <td>0.96</td>\n",
       "      <td>0.72</td>\n",
       "      <td>0.173</td>\n",
       "      <td>B8V</td>\n",
       "      <td>13.431356</td>\n",
       "      <td>1</td>\n",
       "    </tr>\n",
       "  </tbody>\n",
       "</table>\n",
       "</div>"
      ],
      "text/plain": [
       "    Vmag    Plx  e_Plx    B-V SpType       Amag  TargetClass\n",
       "0  10.00  31.66   6.19  1.213    K7V  22.502556            1\n",
       "1   8.26   3.21   1.00  1.130  K0III  15.792525            0\n",
       "2   8.27  12.75   1.06  0.596    F9V  18.797552            1\n",
       "3   6.54   5.23   0.76  1.189  K1III  15.132508            0\n",
       "4   8.52   0.96   0.72  0.173    B8V  13.431356            1"
      ]
     },
     "execution_count": 1,
     "metadata": {},
     "output_type": "execute_result"
    }
   ],
   "source": [
    "import pandas as pd\n",
    "import matplotlib.pyplot as plt\n",
    "\n",
    "plt.style.use('seaborn-whitegrid')\n",
    "# Set matplotlib defaults\n",
    "plt.rc('figure', autolayout=True)\n",
    "plt.rc('axes', labelweight='bold', labelsize='large',\n",
    "        titleweight='bold',titlesize=18,titlepad=10)\n",
    "\n",
    "# Imports\n",
    "source = lambda x : f'../../star_dataset/{x}'\n",
    "\n",
    "X_full = pd.read_csv(source('Star39552_balanced.csv'))\n",
    "X_full.head()"
   ]
  },
  {
   "cell_type": "markdown",
   "metadata": {},
   "source": [
    "Selecting target and predictor variables to be 'Amag' and 'B-V'"
   ]
  },
  {
   "cell_type": "code",
   "execution_count": 2,
   "metadata": {},
   "outputs": [],
   "source": [
    "from sklearn.model_selection import train_test_split\n",
    "\n",
    "X_cols = ['Amag', 'B-V']\n",
    "y_cols = ['TargetClass']\n",
    "\n",
    "# print(list(set(X_full.columns) - set(X_cols + y_cols)))\n",
    "\n",
    "X_full.dropna(axis=0, subset=['TargetClass'], inplace=True) # drop missing values\n",
    "X_full.drop(list(set(X_full.columns) - set(X_cols)), axis=1, inplace=True)\n",
    "# samples = [X_full.sample(n=1000, random_state=i) for i in range(10)]\n",
    "y_full = X_full[y_cols]\n",
    "\n",
    "X_train, X_valid, y_train, y_valid = train_test_split(X_full, y_full, train_size=0.5, test_size=0.5, random_state = 100)"
   ]
  },
  {
   "cell_type": "code",
   "execution_count": 3,
   "metadata": {},
   "outputs": [
    {
     "name": "stdout",
     "output_type": "stream",
     "text": [
      "         B-V       Amag\n",
      "32202 -0.067  17.440240\n",
      "14702  0.846  16.112220\n",
      "16507 -0.020  14.292269\n",
      "32717  0.456  18.251144\n",
      "28014  0.554  14.056757\n",
      "         B-V       Amag\n",
      "2438   0.331  17.863170\n",
      "20570  0.481  18.138397\n",
      "18388  1.563  13.793582\n",
      "11136  1.747  15.034814\n",
      "37525  1.352  14.257706\n",
      "(19776, 2)\n",
      "(19776, 2)\n"
     ]
    }
   ],
   "source": [
    "print(X_train.head())\n",
    "print(X_valid.head())\n",
    "print(X_train.shape)\n",
    "print(X_valid.shape)"
   ]
  },
  {
   "cell_type": "markdown",
   "metadata": {},
   "source": [
    "## RandomForest Machine Learning Model"
   ]
  },
  {
   "cell_type": "code",
   "execution_count": 4,
   "metadata": {},
   "outputs": [
    {
     "name": "stdout",
     "output_type": "stream",
     "text": [
      "MSE: 0.18512338187702265\n"
     ]
    },
    {
     "name": "stderr",
     "output_type": "stream",
     "text": [
      "/tmp/ipykernel_14648/1218607737.py:5: DataConversionWarning: A column-vector y was passed when a 1d array was expected. Please change the shape of y to (n_samples,), for example using ravel().\n",
      "  rf_model.fit(X_train, y_train)\n"
     ]
    }
   ],
   "source": [
    "from sklearn.ensemble import RandomForestRegressor\n",
    "from sklearn.metrics import mean_squared_error\n",
    "\n",
    "rf_model = RandomForestRegressor(n_estimators=1, random_state=0)\n",
    "rf_model.fit(X_train, y_train)\n",
    "y_pred = rf_model.predict(X_valid)\n",
    "print(f\"MSE: {mean_squared_error(y_pred, y_valid)}\")"
   ]
  },
  {
   "cell_type": "code",
   "execution_count": 5,
   "metadata": {},
   "outputs": [
    {
     "name": "stdout",
     "output_type": "stream",
     "text": [
      "[1. 1. 0. ... 0. 0. 0.]\n"
     ]
    }
   ],
   "source": [
    "print(y_pred)"
   ]
  },
  {
   "cell_type": "code",
   "execution_count": 6,
   "metadata": {},
   "outputs": [
    {
     "name": "stdout",
     "output_type": "stream",
     "text": [
      "       TargetClass\n",
      "2438             0\n",
      "20570            1\n",
      "18388            0\n",
      "11136            0\n",
      "37525            0\n",
      "...            ...\n",
      "20709            0\n",
      "22604            1\n",
      "2064             0\n",
      "3987             0\n",
      "20421            0\n",
      "\n",
      "[19776 rows x 1 columns]\n"
     ]
    }
   ],
   "source": [
    "print(y_valid)"
   ]
  },
  {
   "cell_type": "code",
   "execution_count": 7,
   "metadata": {},
   "outputs": [
    {
     "data": {
      "image/png": "[encoded data removed]",
      "text/plain": [
       "<Figure size 432x288 with 1 Axes>"
      ]
     },
     "metadata": {},
     "output_type": "display_data"
    }
   ],
   "source": [
    "target = 'TargetClass'\n",
    "x_var = 'Amag'\n",
    "y_var = 'B-V'\n",
    "\n",
    "rf_pred = rf_model.predict(X_full)\n",
    "\n",
    "def create_plot(x_var, y_var, pred, title):\n",
    "    x_giant = X_full[pred == 1][x_var]\n",
    "    y_giant = X_full[pred == 1][y_var]\n",
    "    x_dwarf = X_full[pred == 0][x_var]\n",
    "    y_dwarf = X_full[pred == 0][y_var]\n",
    "    plt.scatter(x_giant, y_giant, s=0.1, color='red', label=\"Giant (red)\")\n",
    "    plt.scatter(x_dwarf, y_dwarf, s=0.1, color='green', label=\"Dwarf (green)\")\n",
    "    plt.legend()\n",
    "    plt.title(title)\n",
    "    plt.ylabel(y_var)\n",
    "    plt.xlabel(x_var)\n",
    "\n",
    "create_plot(x_var, y_var, rf_pred, \"Random forest Predictions\")"
   ]
  },
  {
   "cell_type": "code",
   "execution_count": 8,
   "metadata": {},
   "outputs": [
    {
     "name": "stdout",
     "output_type": "stream",
     "text": [
      "Using all data points\n",
      "[[17208  2568]\n",
      " [ 2414 17362]]\n",
      "Using validation data points\n",
      "[[8059 1875]\n",
      " [1786 8056]]\n"
     ]
    }
   ],
   "source": [
    "from sklearn.metrics import confusion_matrix\n",
    "print(\"Using all data points\")\n",
    "print(confusion_matrix(y_full, rf_pred, labels=[0,1]))\n",
    "print(\"Using validation data points\")\n",
    "print(confusion_matrix(y_valid, y_pred, labels=[0, 1]))"
   ]
  },
  {
   "cell_type": "markdown",
   "metadata": {},
   "source": [
    "## Neural Network Deep Learning Model"
   ]
  },
  {
   "cell_type": "code",
   "execution_count": null,
   "metadata": {},
   "outputs": [],
   "source": []
  },
  {
   "cell_type": "code",
   "execution_count": 9,
   "metadata": {},
   "outputs": [
    {
     "name": "stderr",
     "output_type": "stream",
     "text": [
      "2022-01-15 11:15:48.852039: W tensorflow/stream_executor/platform/default/dso_loader.cc:64] Could not load dynamic library 'libcudart.so.11.0'; dlerror: libcudart.so.11.0: cannot open shared object file: No such file or directory\n",
      "2022-01-15 11:15:48.852061: I tensorflow/stream_executor/cuda/cudart_stub.cc:29] Ignore above cudart dlerror if you do not have a GPU set up on your machine.\n",
      "2022-01-15 11:15:49.731397: I tensorflow/stream_executor/cuda/cuda_gpu_executor.cc:939] successful NUMA node read from SysFS had negative value (-1), but there must be at least one NUMA node, so returning NUMA node zero\n",
      "2022-01-15 11:15:49.731806: W tensorflow/stream_executor/platform/default/dso_loader.cc:64] Could not load dynamic library 'libcudart.so.11.0'; dlerror: libcudart.so.11.0: cannot open shared object file: No such file or directory\n",
      "2022-01-15 11:15:49.731866: W tensorflow/stream_executor/platform/default/dso_loader.cc:64] Could not load dynamic library 'libcublas.so.11'; dlerror: libcublas.so.11: cannot open shared object file: No such file or directory\n",
      "2022-01-15 11:15:49.731905: W tensorflow/stream_executor/platform/default/dso_loader.cc:64] Could not load dynamic library 'libcublasLt.so.11'; dlerror: libcublasLt.so.11: cannot open shared object file: No such file or directory\n",
      "2022-01-15 11:15:49.731942: W tensorflow/stream_executor/platform/default/dso_loader.cc:64] Could not load dynamic library 'libcufft.so.10'; dlerror: libcufft.so.10: cannot open shared object file: No such file or directory\n",
      "2022-01-15 11:15:49.731980: W tensorflow/stream_executor/platform/default/dso_loader.cc:64] Could not load dynamic library 'libcurand.so.10'; dlerror: libcurand.so.10: cannot open shared object file: No such file or directory\n",
      "2022-01-15 11:15:49.732016: W tensorflow/stream_executor/platform/default/dso_loader.cc:64] Could not load dynamic library 'libcusolver.so.11'; dlerror: libcusolver.so.11: cannot open shared object file: No such file or directory\n",
      "2022-01-15 11:15:49.732052: W tensorflow/stream_executor/platform/default/dso_loader.cc:64] Could not load dynamic library 'libcusparse.so.11'; dlerror: libcusparse.so.11: cannot open shared object file: No such file or directory\n",
      "2022-01-15 11:15:49.732090: W tensorflow/stream_executor/platform/default/dso_loader.cc:64] Could not load dynamic library 'libcudnn.so.8'; dlerror: libcudnn.so.8: cannot open shared object file: No such file or directory\n",
      "2022-01-15 11:15:49.732096: W tensorflow/core/common_runtime/gpu/gpu_device.cc:1850] Cannot dlopen some GPU libraries. Please make sure the missing libraries mentioned above are installed properly if you would like to use GPU. Follow the guide at https://www.tensorflow.org/install/gpu for how to download and setup the required libraries for your platform.\n",
      "Skipping registering GPU devices...\n",
      "2022-01-15 11:15:49.732336: I tensorflow/core/platform/cpu_feature_guard.cc:151] This TensorFlow binary is optimized with oneAPI Deep Neural Network Library (oneDNN) to use the following CPU instructions in performance-critical operations:  AVX2 FMA\n",
      "To enable them in other operations, rebuild TensorFlow with the appropriate compiler flags.\n"
     ]
    }
   ],
   "source": [
    "from tensorflow import keras\n",
    "from tensorflow.keras import layers\n",
    "\n",
    "input_shape = (X_train.shape[1],)\n",
    "\n",
    "nn_model = keras.Sequential([\n",
    "    layers.Dense(128, activation='relu', input_shape=input_shape),\n",
    "    layers.Dense(128, activation='relu'),\n",
    "    layers.Dense(64, activation='relu'),\n",
    "    layers.Dense(1),\n",
    "])"
   ]
  },
  {
   "cell_type": "code",
   "execution_count": 10,
   "metadata": {},
   "outputs": [
    {
     "name": "stdout",
     "output_type": "stream",
     "text": [
      "Epoch 1/200\n",
      "155/155 [==============================] - 0s 2ms/step - loss: 0.1442 - val_loss: 0.1071\n",
      "Epoch 2/200\n",
      "155/155 [==============================] - 0s 1ms/step - loss: 0.1039 - val_loss: 0.1060\n",
      "Epoch 3/200\n",
      "155/155 [==============================] - 0s 1ms/step - loss: 0.0998 - val_loss: 0.1021\n",
      "Epoch 4/200\n",
      "155/155 [==============================] - 0s 1ms/step - loss: 0.0971 - val_loss: 0.1085\n",
      "Epoch 5/200\n",
      "155/155 [==============================] - 0s 1ms/step - loss: 0.0990 - val_loss: 0.0992\n",
      "Epoch 6/200\n",
      "155/155 [==============================] - 0s 1ms/step - loss: 0.0961 - val_loss: 0.1002\n",
      "Epoch 7/200\n",
      "155/155 [==============================] - 0s 1ms/step - loss: 0.0963 - val_loss: 0.0979\n",
      "Epoch 8/200\n",
      "155/155 [==============================] - 0s 1ms/step - loss: 0.0954 - val_loss: 0.0988\n",
      "Epoch 9/200\n",
      "155/155 [==============================] - 0s 1ms/step - loss: 0.0961 - val_loss: 0.0968\n",
      "Epoch 10/200\n",
      "155/155 [==============================] - 0s 1ms/step - loss: 0.0944 - val_loss: 0.0967\n",
      "Epoch 11/200\n",
      "155/155 [==============================] - 0s 1ms/step - loss: 0.0945 - val_loss: 0.1002\n",
      "Epoch 12/200\n",
      "155/155 [==============================] - 0s 1ms/step - loss: 0.0950 - val_loss: 0.0974\n",
      "Epoch 13/200\n",
      "155/155 [==============================] - 0s 1ms/step - loss: 0.0947 - val_loss: 0.0971\n",
      "Epoch 14/200\n",
      "155/155 [==============================] - 0s 1ms/step - loss: 0.0940 - val_loss: 0.0969\n",
      "Epoch 15/200\n",
      "155/155 [==============================] - 0s 1ms/step - loss: 0.0940 - val_loss: 0.0975\n",
      "Epoch 16/200\n",
      "155/155 [==============================] - 0s 1ms/step - loss: 0.0943 - val_loss: 0.1078\n",
      "Epoch 17/200\n",
      "155/155 [==============================] - 0s 1ms/step - loss: 0.0949 - val_loss: 0.1010\n",
      "Epoch 18/200\n",
      "155/155 [==============================] - 0s 1ms/step - loss: 0.0946 - val_loss: 0.0985\n",
      "Epoch 19/200\n",
      "155/155 [==============================] - 0s 1ms/step - loss: 0.0939 - val_loss: 0.1001\n",
      "Epoch 20/200\n",
      "155/155 [==============================] - 0s 1ms/step - loss: 0.0942 - val_loss: 0.0967\n",
      "Epoch 21/200\n",
      "155/155 [==============================] - 0s 1ms/step - loss: 0.0936 - val_loss: 0.0974\n",
      "Epoch 22/200\n",
      "155/155 [==============================] - 0s 1ms/step - loss: 0.0944 - val_loss: 0.0969\n",
      "Epoch 23/200\n",
      "155/155 [==============================] - 0s 1ms/step - loss: 0.0934 - val_loss: 0.0980\n",
      "Epoch 24/200\n",
      "155/155 [==============================] - 0s 1ms/step - loss: 0.0945 - val_loss: 0.0979\n",
      "Epoch 25/200\n",
      "155/155 [==============================] - 0s 1ms/step - loss: 0.0938 - val_loss: 0.0971\n",
      "Epoch 26/200\n",
      "155/155 [==============================] - 0s 1ms/step - loss: 0.0937 - val_loss: 0.0960\n",
      "Epoch 27/200\n",
      "155/155 [==============================] - 0s 1ms/step - loss: 0.0946 - val_loss: 0.0970\n",
      "Epoch 28/200\n",
      "155/155 [==============================] - 0s 1ms/step - loss: 0.0938 - val_loss: 0.0966\n",
      "Epoch 29/200\n",
      "155/155 [==============================] - 0s 1ms/step - loss: 0.0930 - val_loss: 0.0973\n",
      "Epoch 30/200\n",
      "155/155 [==============================] - 0s 1ms/step - loss: 0.0933 - val_loss: 0.1044\n",
      "Epoch 31/200\n",
      "155/155 [==============================] - 0s 2ms/step - loss: 0.0931 - val_loss: 0.0965\n",
      "Epoch 32/200\n",
      "155/155 [==============================] - 0s 1ms/step - loss: 0.0930 - val_loss: 0.0963\n",
      "Epoch 33/200\n",
      "155/155 [==============================] - 0s 1ms/step - loss: 0.0930 - val_loss: 0.0990\n",
      "Epoch 34/200\n",
      "155/155 [==============================] - 0s 1ms/step - loss: 0.0934 - val_loss: 0.0971\n",
      "Epoch 35/200\n",
      "155/155 [==============================] - 0s 1ms/step - loss: 0.0937 - val_loss: 0.1048\n",
      "Epoch 36/200\n",
      "155/155 [==============================] - 0s 1ms/step - loss: 0.0933 - val_loss: 0.0973\n",
      "Epoch 37/200\n",
      "155/155 [==============================] - 0s 1ms/step - loss: 0.0929 - val_loss: 0.0963\n",
      "Epoch 38/200\n",
      "155/155 [==============================] - 0s 1ms/step - loss: 0.0926 - val_loss: 0.0975\n",
      "Epoch 39/200\n",
      "155/155 [==============================] - 0s 1ms/step - loss: 0.0941 - val_loss: 0.0986\n",
      "Epoch 40/200\n",
      "155/155 [==============================] - 0s 1ms/step - loss: 0.0926 - val_loss: 0.0985\n",
      "Epoch 41/200\n",
      "155/155 [==============================] - 0s 1ms/step - loss: 0.0936 - val_loss: 0.0960\n",
      "Epoch 42/200\n",
      "155/155 [==============================] - 0s 1ms/step - loss: 0.0929 - val_loss: 0.0980\n",
      "Epoch 43/200\n",
      "155/155 [==============================] - 0s 1ms/step - loss: 0.0928 - val_loss: 0.0989\n",
      "Epoch 44/200\n",
      "155/155 [==============================] - 0s 1ms/step - loss: 0.0930 - val_loss: 0.0960\n",
      "Epoch 45/200\n",
      "155/155 [==============================] - 0s 1ms/step - loss: 0.0930 - val_loss: 0.0963\n",
      "Epoch 46/200\n",
      "155/155 [==============================] - 0s 1ms/step - loss: 0.0928 - val_loss: 0.0961\n",
      "Epoch 47/200\n",
      "155/155 [==============================] - 0s 1ms/step - loss: 0.0928 - val_loss: 0.0966\n",
      "Epoch 48/200\n",
      "155/155 [==============================] - 0s 1ms/step - loss: 0.0932 - val_loss: 0.1000\n",
      "Epoch 49/200\n",
      "155/155 [==============================] - 0s 1ms/step - loss: 0.0929 - val_loss: 0.0963\n",
      "Epoch 50/200\n",
      "155/155 [==============================] - 0s 1ms/step - loss: 0.0927 - val_loss: 0.0964\n",
      "Epoch 51/200\n",
      "155/155 [==============================] - 0s 1ms/step - loss: 0.0924 - val_loss: 0.0958\n",
      "Epoch 52/200\n",
      "155/155 [==============================] - 0s 1ms/step - loss: 0.0926 - val_loss: 0.0965\n",
      "Epoch 53/200\n",
      "155/155 [==============================] - 0s 1ms/step - loss: 0.0930 - val_loss: 0.0958\n",
      "Epoch 54/200\n",
      "155/155 [==============================] - 0s 1ms/step - loss: 0.0923 - val_loss: 0.0962\n",
      "Epoch 55/200\n",
      "155/155 [==============================] - 0s 1ms/step - loss: 0.0920 - val_loss: 0.0972\n",
      "Epoch 56/200\n",
      "155/155 [==============================] - 0s 1ms/step - loss: 0.0921 - val_loss: 0.0966\n",
      "Epoch 57/200\n",
      "155/155 [==============================] - 0s 2ms/step - loss: 0.0927 - val_loss: 0.0968\n",
      "Epoch 58/200\n",
      "155/155 [==============================] - 0s 1ms/step - loss: 0.0922 - val_loss: 0.0955\n",
      "Epoch 59/200\n",
      "155/155 [==============================] - 0s 1ms/step - loss: 0.0924 - val_loss: 0.0958\n",
      "Epoch 60/200\n",
      "155/155 [==============================] - 0s 1ms/step - loss: 0.0920 - val_loss: 0.0959\n",
      "Epoch 61/200\n",
      "155/155 [==============================] - 0s 2ms/step - loss: 0.0925 - val_loss: 0.0962\n",
      "Epoch 62/200\n",
      "155/155 [==============================] - 0s 1ms/step - loss: 0.0920 - val_loss: 0.0961\n",
      "Epoch 63/200\n",
      "155/155 [==============================] - 0s 1ms/step - loss: 0.0927 - val_loss: 0.0971\n",
      "Epoch 64/200\n",
      "155/155 [==============================] - 0s 1ms/step - loss: 0.0916 - val_loss: 0.0953\n",
      "Epoch 65/200\n",
      "155/155 [==============================] - 0s 1ms/step - loss: 0.0920 - val_loss: 0.0975\n",
      "Epoch 66/200\n",
      "155/155 [==============================] - 0s 1ms/step - loss: 0.0923 - val_loss: 0.0958\n",
      "Epoch 67/200\n",
      "155/155 [==============================] - 0s 1ms/step - loss: 0.0925 - val_loss: 0.0958\n",
      "Epoch 68/200\n",
      "155/155 [==============================] - 0s 1ms/step - loss: 0.0923 - val_loss: 0.0958\n",
      "Epoch 69/200\n",
      "155/155 [==============================] - 0s 1ms/step - loss: 0.0919 - val_loss: 0.0960\n",
      "Epoch 70/200\n",
      "155/155 [==============================] - 0s 1ms/step - loss: 0.0917 - val_loss: 0.0956\n",
      "Epoch 71/200\n",
      "155/155 [==============================] - 0s 1ms/step - loss: 0.0919 - val_loss: 0.0986\n",
      "Epoch 72/200\n",
      "155/155 [==============================] - 0s 1ms/step - loss: 0.0921 - val_loss: 0.0962\n",
      "Epoch 73/200\n",
      "155/155 [==============================] - 0s 1ms/step - loss: 0.0919 - val_loss: 0.0967\n",
      "Epoch 74/200\n",
      "155/155 [==============================] - 0s 1ms/step - loss: 0.0919 - val_loss: 0.0968\n",
      "Epoch 75/200\n",
      "155/155 [==============================] - 0s 1ms/step - loss: 0.0916 - val_loss: 0.0957\n",
      "Epoch 76/200\n",
      "155/155 [==============================] - 0s 1ms/step - loss: 0.0917 - val_loss: 0.0962\n",
      "Epoch 77/200\n",
      "155/155 [==============================] - 0s 1ms/step - loss: 0.0920 - val_loss: 0.0956\n",
      "Epoch 78/200\n",
      "155/155 [==============================] - 0s 1ms/step - loss: 0.0914 - val_loss: 0.0951\n",
      "Epoch 79/200\n",
      "155/155 [==============================] - 0s 1ms/step - loss: 0.0918 - val_loss: 0.0988\n",
      "Epoch 80/200\n",
      "155/155 [==============================] - 0s 1ms/step - loss: 0.0918 - val_loss: 0.0968\n",
      "Epoch 81/200\n",
      "155/155 [==============================] - 0s 1ms/step - loss: 0.0913 - val_loss: 0.0955\n",
      "Epoch 82/200\n",
      "155/155 [==============================] - 0s 1ms/step - loss: 0.0913 - val_loss: 0.0977\n",
      "Epoch 83/200\n",
      "155/155 [==============================] - 0s 1ms/step - loss: 0.0918 - val_loss: 0.0959\n",
      "Epoch 84/200\n",
      "155/155 [==============================] - 0s 1ms/step - loss: 0.0919 - val_loss: 0.0958\n",
      "Epoch 85/200\n",
      "155/155 [==============================] - 0s 1ms/step - loss: 0.0917 - val_loss: 0.0958\n",
      "Epoch 86/200\n",
      "155/155 [==============================] - 0s 1ms/step - loss: 0.0915 - val_loss: 0.0951\n",
      "Epoch 87/200\n",
      "155/155 [==============================] - 0s 1ms/step - loss: 0.0915 - val_loss: 0.0959\n",
      "Epoch 88/200\n",
      "155/155 [==============================] - 0s 1ms/step - loss: 0.0911 - val_loss: 0.0963\n",
      "Epoch 89/200\n",
      "155/155 [==============================] - 0s 1ms/step - loss: 0.0917 - val_loss: 0.0955\n",
      "Epoch 90/200\n",
      "155/155 [==============================] - 0s 1ms/step - loss: 0.0913 - val_loss: 0.0954\n",
      "Epoch 91/200\n",
      "155/155 [==============================] - 0s 1ms/step - loss: 0.0917 - val_loss: 0.0952\n",
      "Epoch 92/200\n",
      "155/155 [==============================] - 0s 1ms/step - loss: 0.0914 - val_loss: 0.0958\n",
      "Epoch 93/200\n",
      "155/155 [==============================] - 0s 1ms/step - loss: 0.0921 - val_loss: 0.0955\n",
      "Epoch 94/200\n",
      "155/155 [==============================] - 0s 1ms/step - loss: 0.0911 - val_loss: 0.0953\n",
      "Epoch 95/200\n",
      "155/155 [==============================] - 0s 1ms/step - loss: 0.0918 - val_loss: 0.0955\n",
      "Epoch 96/200\n",
      "155/155 [==============================] - 0s 1ms/step - loss: 0.0913 - val_loss: 0.0955\n",
      "Epoch 97/200\n",
      "155/155 [==============================] - 0s 1ms/step - loss: 0.0911 - val_loss: 0.0959\n",
      "Epoch 98/200\n",
      "155/155 [==============================] - 0s 1ms/step - loss: 0.0913 - val_loss: 0.0951\n",
      "Epoch 99/200\n",
      "155/155 [==============================] - 0s 1ms/step - loss: 0.0912 - val_loss: 0.0954\n",
      "Epoch 100/200\n",
      "155/155 [==============================] - 0s 1ms/step - loss: 0.0913 - val_loss: 0.0979\n",
      "Epoch 101/200\n",
      "155/155 [==============================] - 0s 1ms/step - loss: 0.0913 - val_loss: 0.0955\n",
      "Epoch 102/200\n",
      "155/155 [==============================] - 0s 1ms/step - loss: 0.0914 - val_loss: 0.0965\n",
      "Epoch 103/200\n",
      "155/155 [==============================] - 0s 1ms/step - loss: 0.0909 - val_loss: 0.0958\n",
      "Epoch 104/200\n",
      "155/155 [==============================] - 0s 1ms/step - loss: 0.0912 - val_loss: 0.0952\n",
      "Epoch 105/200\n",
      "155/155 [==============================] - 0s 1ms/step - loss: 0.0909 - val_loss: 0.0953\n",
      "Epoch 106/200\n",
      "155/155 [==============================] - 0s 1ms/step - loss: 0.0910 - val_loss: 0.0950\n",
      "Epoch 107/200\n",
      "155/155 [==============================] - 0s 1ms/step - loss: 0.0915 - val_loss: 0.0951\n",
      "Epoch 108/200\n",
      "155/155 [==============================] - 0s 1ms/step - loss: 0.0912 - val_loss: 0.0955\n",
      "Epoch 109/200\n",
      "155/155 [==============================] - 0s 1ms/step - loss: 0.0909 - val_loss: 0.0952\n",
      "Epoch 110/200\n",
      "155/155 [==============================] - 0s 1ms/step - loss: 0.0908 - val_loss: 0.0952\n",
      "Epoch 111/200\n",
      "155/155 [==============================] - 0s 1ms/step - loss: 0.0911 - val_loss: 0.0963\n",
      "Epoch 112/200\n",
      "155/155 [==============================] - 0s 1ms/step - loss: 0.0914 - val_loss: 0.0951\n",
      "Epoch 113/200\n",
      "155/155 [==============================] - 0s 1ms/step - loss: 0.0911 - val_loss: 0.0978\n",
      "Epoch 114/200\n",
      "155/155 [==============================] - 0s 1ms/step - loss: 0.0910 - val_loss: 0.0956\n",
      "Epoch 115/200\n",
      "155/155 [==============================] - 0s 1ms/step - loss: 0.0911 - val_loss: 0.0958\n",
      "Epoch 116/200\n",
      "155/155 [==============================] - 0s 1ms/step - loss: 0.0913 - val_loss: 0.0955\n",
      "Epoch 117/200\n",
      "155/155 [==============================] - 0s 1ms/step - loss: 0.0910 - val_loss: 0.0968\n",
      "Epoch 118/200\n",
      "155/155 [==============================] - 0s 1ms/step - loss: 0.0912 - val_loss: 0.0952\n",
      "Epoch 119/200\n",
      "155/155 [==============================] - 0s 1ms/step - loss: 0.0910 - val_loss: 0.0962\n",
      "Epoch 120/200\n",
      "155/155 [==============================] - 0s 1ms/step - loss: 0.0912 - val_loss: 0.0951\n",
      "Epoch 121/200\n",
      "155/155 [==============================] - 0s 1ms/step - loss: 0.0913 - val_loss: 0.0956\n",
      "Epoch 122/200\n",
      "155/155 [==============================] - 0s 1ms/step - loss: 0.0910 - val_loss: 0.0953\n",
      "Epoch 123/200\n",
      "155/155 [==============================] - 0s 1ms/step - loss: 0.0911 - val_loss: 0.0960\n",
      "Epoch 124/200\n",
      "155/155 [==============================] - 0s 1ms/step - loss: 0.0911 - val_loss: 0.0965\n",
      "Epoch 125/200\n",
      "155/155 [==============================] - 0s 1ms/step - loss: 0.0908 - val_loss: 0.0952\n",
      "Epoch 126/200\n",
      "155/155 [==============================] - 0s 1ms/step - loss: 0.0907 - val_loss: 0.0962\n",
      "Epoch 127/200\n",
      "155/155 [==============================] - 0s 1ms/step - loss: 0.0912 - val_loss: 0.0964\n",
      "Epoch 128/200\n",
      "155/155 [==============================] - 0s 1ms/step - loss: 0.0912 - val_loss: 0.0954\n",
      "Epoch 129/200\n",
      "155/155 [==============================] - 0s 1ms/step - loss: 0.0904 - val_loss: 0.0957\n",
      "Epoch 130/200\n",
      "155/155 [==============================] - 0s 1ms/step - loss: 0.0908 - val_loss: 0.0951\n",
      "Epoch 131/200\n",
      "155/155 [==============================] - 0s 1ms/step - loss: 0.0909 - val_loss: 0.0959\n",
      "Epoch 132/200\n",
      "155/155 [==============================] - 0s 1ms/step - loss: 0.0907 - val_loss: 0.0958\n",
      "Epoch 133/200\n",
      "155/155 [==============================] - 0s 1ms/step - loss: 0.0906 - val_loss: 0.0956\n",
      "Epoch 134/200\n",
      "155/155 [==============================] - 0s 1ms/step - loss: 0.0911 - val_loss: 0.0959\n",
      "Epoch 135/200\n",
      "155/155 [==============================] - 0s 1ms/step - loss: 0.0917 - val_loss: 0.0951\n",
      "Epoch 136/200\n",
      "155/155 [==============================] - 0s 1ms/step - loss: 0.0907 - val_loss: 0.0959\n",
      "Epoch 137/200\n",
      "155/155 [==============================] - 0s 1ms/step - loss: 0.0908 - val_loss: 0.0955\n",
      "Epoch 138/200\n",
      "155/155 [==============================] - 0s 1ms/step - loss: 0.0916 - val_loss: 0.0962\n",
      "Epoch 139/200\n",
      "155/155 [==============================] - 0s 1ms/step - loss: 0.0907 - val_loss: 0.0951\n",
      "Epoch 140/200\n",
      "155/155 [==============================] - 0s 1ms/step - loss: 0.0909 - val_loss: 0.0953\n",
      "Epoch 141/200\n",
      "155/155 [==============================] - 0s 1ms/step - loss: 0.0909 - val_loss: 0.0951\n",
      "Epoch 142/200\n",
      "155/155 [==============================] - 0s 1ms/step - loss: 0.0907 - val_loss: 0.0954\n",
      "Epoch 143/200\n",
      "155/155 [==============================] - 0s 1ms/step - loss: 0.0908 - val_loss: 0.0956\n",
      "Epoch 144/200\n",
      "155/155 [==============================] - 0s 1ms/step - loss: 0.0906 - val_loss: 0.0968\n",
      "Epoch 145/200\n",
      "155/155 [==============================] - 0s 1ms/step - loss: 0.0910 - val_loss: 0.0964\n",
      "Epoch 146/200\n",
      "155/155 [==============================] - 0s 1ms/step - loss: 0.0911 - val_loss: 0.0983\n",
      "Epoch 147/200\n",
      "155/155 [==============================] - 0s 1ms/step - loss: 0.0910 - val_loss: 0.0956\n",
      "Epoch 148/200\n",
      "155/155 [==============================] - 0s 1ms/step - loss: 0.0908 - val_loss: 0.0958\n",
      "Epoch 149/200\n",
      "155/155 [==============================] - 0s 1ms/step - loss: 0.0906 - val_loss: 0.0974\n",
      "Epoch 150/200\n",
      "155/155 [==============================] - 0s 1ms/step - loss: 0.0910 - val_loss: 0.0969\n",
      "Epoch 151/200\n",
      "155/155 [==============================] - 0s 1ms/step - loss: 0.0906 - val_loss: 0.0956\n",
      "Epoch 152/200\n",
      "155/155 [==============================] - 0s 1ms/step - loss: 0.0907 - val_loss: 0.0956\n",
      "Epoch 153/200\n",
      "155/155 [==============================] - 0s 1ms/step - loss: 0.0909 - val_loss: 0.0960\n",
      "Epoch 154/200\n",
      "155/155 [==============================] - 0s 1ms/step - loss: 0.0908 - val_loss: 0.0961\n",
      "Epoch 155/200\n",
      "155/155 [==============================] - 0s 1ms/step - loss: 0.0905 - val_loss: 0.0953\n",
      "Epoch 156/200\n",
      "155/155 [==============================] - 0s 1ms/step - loss: 0.0906 - val_loss: 0.0949\n",
      "Epoch 157/200\n",
      "155/155 [==============================] - 0s 1ms/step - loss: 0.0905 - val_loss: 0.0954\n",
      "Epoch 158/200\n",
      "155/155 [==============================] - 0s 1ms/step - loss: 0.0909 - val_loss: 0.0961\n",
      "Epoch 159/200\n",
      "155/155 [==============================] - 0s 1ms/step - loss: 0.0906 - val_loss: 0.0954\n",
      "Epoch 160/200\n",
      "155/155 [==============================] - 0s 1ms/step - loss: 0.0905 - val_loss: 0.0953\n",
      "Epoch 161/200\n",
      "155/155 [==============================] - 0s 1ms/step - loss: 0.0903 - val_loss: 0.0950\n",
      "Epoch 162/200\n",
      "155/155 [==============================] - 0s 1ms/step - loss: 0.0902 - val_loss: 0.0955\n",
      "Epoch 163/200\n",
      "155/155 [==============================] - 0s 1ms/step - loss: 0.0906 - val_loss: 0.0948\n",
      "Epoch 164/200\n",
      "155/155 [==============================] - 0s 1ms/step - loss: 0.0903 - val_loss: 0.0959\n",
      "Epoch 165/200\n",
      "155/155 [==============================] - 0s 1ms/step - loss: 0.0907 - val_loss: 0.0962\n",
      "Epoch 166/200\n",
      "155/155 [==============================] - 0s 1ms/step - loss: 0.0904 - val_loss: 0.0956\n",
      "Epoch 167/200\n",
      "155/155 [==============================] - 0s 1ms/step - loss: 0.0901 - val_loss: 0.0950\n",
      "Epoch 168/200\n",
      "155/155 [==============================] - 0s 1ms/step - loss: 0.0902 - val_loss: 0.0956\n",
      "Epoch 169/200\n",
      "155/155 [==============================] - 0s 1ms/step - loss: 0.0904 - val_loss: 0.0964\n",
      "Epoch 170/200\n",
      "155/155 [==============================] - 0s 1ms/step - loss: 0.0905 - val_loss: 0.0953\n",
      "Epoch 171/200\n",
      "155/155 [==============================] - 0s 1ms/step - loss: 0.0901 - val_loss: 0.0963\n",
      "Epoch 172/200\n",
      "155/155 [==============================] - 0s 1ms/step - loss: 0.0903 - val_loss: 0.0948\n",
      "Epoch 173/200\n",
      "155/155 [==============================] - 0s 1ms/step - loss: 0.0903 - val_loss: 0.0951\n",
      "Epoch 174/200\n",
      "155/155 [==============================] - 0s 1ms/step - loss: 0.0905 - val_loss: 0.0959\n",
      "Epoch 175/200\n",
      "155/155 [==============================] - 0s 1ms/step - loss: 0.0904 - val_loss: 0.0950\n",
      "Epoch 176/200\n",
      "155/155 [==============================] - 0s 1ms/step - loss: 0.0903 - val_loss: 0.0965\n",
      "Epoch 177/200\n",
      "155/155 [==============================] - 0s 1ms/step - loss: 0.0907 - val_loss: 0.0955\n",
      "Epoch 178/200\n",
      "155/155 [==============================] - 0s 1ms/step - loss: 0.0905 - val_loss: 0.0948\n",
      "Epoch 179/200\n",
      "155/155 [==============================] - 0s 1ms/step - loss: 0.0902 - val_loss: 0.0950\n",
      "Epoch 180/200\n",
      "155/155 [==============================] - 0s 1ms/step - loss: 0.0902 - val_loss: 0.0949\n",
      "Epoch 181/200\n",
      "155/155 [==============================] - 0s 1ms/step - loss: 0.0902 - val_loss: 0.0952\n",
      "Epoch 182/200\n",
      "155/155 [==============================] - 0s 1ms/step - loss: 0.0905 - val_loss: 0.0947\n",
      "Epoch 183/200\n",
      "155/155 [==============================] - 0s 1ms/step - loss: 0.0903 - val_loss: 0.0952\n",
      "Epoch 184/200\n",
      "155/155 [==============================] - 0s 1ms/step - loss: 0.0900 - val_loss: 0.0950\n",
      "Epoch 185/200\n",
      "155/155 [==============================] - 0s 1ms/step - loss: 0.0908 - val_loss: 0.0950\n",
      "Epoch 186/200\n",
      "155/155 [==============================] - 0s 1ms/step - loss: 0.0901 - val_loss: 0.0953\n",
      "Epoch 187/200\n",
      "155/155 [==============================] - 0s 1ms/step - loss: 0.0906 - val_loss: 0.0952\n",
      "Epoch 188/200\n",
      "155/155 [==============================] - 0s 1ms/step - loss: 0.0902 - val_loss: 0.0957\n",
      "Epoch 189/200\n",
      "155/155 [==============================] - 0s 1ms/step - loss: 0.0906 - val_loss: 0.0955\n",
      "Epoch 190/200\n",
      "155/155 [==============================] - 0s 1ms/step - loss: 0.0905 - val_loss: 0.0947\n",
      "Epoch 191/200\n",
      "155/155 [==============================] - 0s 1ms/step - loss: 0.0901 - val_loss: 0.0948\n",
      "Epoch 192/200\n",
      "155/155 [==============================] - 0s 1ms/step - loss: 0.0899 - val_loss: 0.0950\n",
      "Epoch 193/200\n",
      "155/155 [==============================] - 0s 1ms/step - loss: 0.0900 - val_loss: 0.0951\n",
      "Epoch 194/200\n",
      "155/155 [==============================] - 0s 1ms/step - loss: 0.0901 - val_loss: 0.0984\n",
      "Epoch 195/200\n",
      "155/155 [==============================] - 0s 1ms/step - loss: 0.0902 - val_loss: 0.0947\n",
      "Epoch 196/200\n",
      "155/155 [==============================] - 0s 1ms/step - loss: 0.0900 - val_loss: 0.0957\n",
      "Epoch 197/200\n",
      "155/155 [==============================] - 0s 1ms/step - loss: 0.0901 - val_loss: 0.0953\n",
      "Epoch 198/200\n",
      "155/155 [==============================] - 0s 1ms/step - loss: 0.0901 - val_loss: 0.0947\n",
      "Epoch 199/200\n",
      "155/155 [==============================] - 0s 1ms/step - loss: 0.0898 - val_loss: 0.0961\n",
      "Epoch 200/200\n",
      "155/155 [==============================] - 0s 1ms/step - loss: 0.0899 - val_loss: 0.0945\n"
     ]
    }
   ],
   "source": [
    "nn_model.compile(\n",
    "    optimizer='adam',\n",
    "    loss='mse',\n",
    ")\n",
    "\n",
    "history = nn_model.fit(\n",
    "    X_train, y_train,\n",
    "    validation_data=(X_valid, y_valid),\n",
    "    batch_size=128,\n",
    "    epochs=200,\n",
    ")"
   ]
  },
  {
   "cell_type": "code",
   "execution_count": 11,
   "metadata": {},
   "outputs": [
    {
     "data": {
      "text/plain": [
       "<AxesSubplot:>"
      ]
     },
     "execution_count": 11,
     "metadata": {},
     "output_type": "execute_result"
    },
    {
     "data": {
      "image/png": "[encoded data removed]",
      "text/plain": [
       "<Figure size 432x288 with 1 Axes>"
      ]
     },
     "metadata": {},
     "output_type": "display_data"
    }
   ],
   "source": [
    "history_df = pd.DataFrame(history.history)\n",
    "history_df.loc[5:, ['loss']].plot()"
   ]
  },
  {
   "cell_type": "code",
   "execution_count": 12,
   "metadata": {},
   "outputs": [],
   "source": [
    "y_pred = nn_model.predict(X_valid)\n",
    "# Rounding values off\n",
    "y_pred[y_pred >= 0.5] = 1\n",
    "y_pred[y_pred < 0.5] = 0\n"
   ]
  },
  {
   "cell_type": "code",
   "execution_count": 13,
   "metadata": {},
   "outputs": [
    {
     "data": {
      "text/plain": [
       "array([[8439, 1495],\n",
       "       [ 935, 8907]])"
      ]
     },
     "execution_count": 13,
     "metadata": {},
     "output_type": "execute_result"
    }
   ],
   "source": [
    "confusion_matrix(y_valid, y_pred, labels=[0, 1])"
   ]
  },
  {
   "cell_type": "code",
   "execution_count": 14,
   "metadata": {},
   "outputs": [
    {
     "data": {
      "image/png": "[encoded data removed]",
      "text/plain": [
       "<Figure size 432x288 with 1 Axes>"
      ]
     },
     "metadata": {},
     "output_type": "display_data"
    }
   ],
   "source": [
    "x_var = 'Amag'\n",
    "y_var = 'B-V'\n",
    "\n",
    "nn_pred = nn_model.predict(X_full)\n",
    "# Rounding the predictions\n",
    "nn_pred[nn_pred >= 0.5] = 1\n",
    "nn_pred[nn_pred < 0.5] = 0\n",
    "create_plot(x_var, y_var, nn_pred, \"Neural network Predictions\")"
   ]
  },
  {
   "cell_type": "code",
   "execution_count": 15,
   "metadata": {},
   "outputs": [
    {
     "name": "stdout",
     "output_type": "stream",
     "text": [
      "Using all data points\n",
      "[[16859  2917]\n",
      " [ 1809 17967]]\n",
      "Using validation data points\n",
      "[[8439 1495]\n",
      " [ 935 8907]]\n"
     ]
    }
   ],
   "source": [
    "print(\"Using all data points\")\n",
    "print(confusion_matrix(y_full, nn_pred, labels=[0,1]))\n",
    "print(\"Using validation data points\")\n",
    "print(confusion_matrix(y_valid, y_pred, labels=[0, 1]))"
   ]
  },
  {
   "cell_type": "code",
   "execution_count": 16,
   "metadata": {},
   "outputs": [
    {
     "name": "stdout",
     "output_type": "stream",
     "text": [
      "[[16760  2862]\n",
      " [ 1908 18022]]\n"
     ]
    }
   ],
   "source": [
    "print(confusion_matrix(rf_pred, nn_pred, labels=[0,1]))"
   ]
  },
  {
   "cell_type": "markdown",
   "metadata": {},
   "source": [
    "## Testing whether the two models are the same"
   ]
  },
  {
   "cell_type": "code",
   "execution_count": 76,
   "metadata": {},
   "outputs": [],
   "source": [
    "N = 100 # number of samples\n",
    "n = 1_000 # size of each sample\n",
    "\n",
    "# 1. Get 10 different random samples\n",
    "y_samples = [y_full.sample(n=n, random_state=i) for i in range(N)]\n",
    "X_samples = [X_full.sample(n=n, random_state=i) for i in range(N)]"
   ]
  },
  {
   "cell_type": "code",
   "execution_count": 77,
   "metadata": {},
   "outputs": [],
   "source": [
    "rf_results = []\n",
    "nn_results = []\n",
    "\n",
    "for X, y in zip(X_samples, y_samples):\n",
    "    rf_pred = rf_model.predict(X)\n",
    "    nn_pred = nn_model.predict(X)\n",
    "\n",
    "    # rounding required for neural network predictions\n",
    "    nn_pred[nn_pred >= 0.5] = 1\n",
    "    nn_pred[nn_pred < 0.5] = 0\n",
    "\n",
    "    # collecting results\n",
    "    rf_results.append(\n",
    "        mean_squared_error(y, rf_pred)\n",
    "    )\n",
    "    nn_results.append(\n",
    "        mean_squared_error(y, nn_pred)\n",
    "    )"
   ]
  },
  {
   "cell_type": "code",
   "execution_count": 73,
   "metadata": {},
   "outputs": [
    {
     "name": "stdout",
     "output_type": "stream",
     "text": [
      "[0.1254, 0.1256, 0.1274, 0.1232, 0.1263, 0.1279, 0.127, 0.1286, 0.1212, 0.1271]\n",
      "[0.1204, 0.1201, 0.1197, 0.1198, 0.1209, 0.1183, 0.1217, 0.1196, 0.1234, 0.1173]\n"
     ]
    }
   ],
   "source": [
    "print(rf_results)\n",
    "print(nn_results)"
   ]
  },
  {
   "cell_type": "code",
   "execution_count": 78,
   "metadata": {},
   "outputs": [
    {
     "name": "stdout",
     "output_type": "stream",
     "text": [
      "rf_sample_mean = 0.12583\n",
      "nn_sample_mean = 0.11865\n",
      "overall_mean = 0.12224\n",
      "SSR = 0.002577619999999994\n",
      "rf_SSE = 0.013214110000000001\n",
      "nn_SSE = 0.00898675\n",
      "SSE = 0.022200860000000003\n",
      "SST = 0.02477848\n",
      "df_treatment = 1\n",
      "df_error = 198\n",
      "f_value = 22.988693230802713\n"
     ]
    }
   ],
   "source": [
    "import statistics as st\n",
    "rf_sample_mean = st.mean(rf_results)\n",
    "nn_sample_mean = st.mean(nn_results)\n",
    "print(f\"{rf_sample_mean = }\")\n",
    "print(f\"{nn_sample_mean = }\")\n",
    "overall_mean = st.mean([rf_sample_mean, nn_sample_mean])\n",
    "print(f\"{overall_mean = }\")\n",
    "SSR = N * sum([(m - overall_mean) ** 2 for m in [rf_sample_mean, nn_sample_mean]])\n",
    "print(f\"{SSR = }\")\n",
    "rf_SSE = sum((i - rf_sample_mean) ** 2 for i in rf_results)\n",
    "nn_SSE = sum((i - nn_sample_mean) ** 2 for i in nn_results)\n",
    "SSE = rf_SSE + nn_SSE\n",
    "SST = SSE + SSR\n",
    "print(f\"{rf_SSE = }\")\n",
    "print(f\"{nn_SSE = }\")\n",
    "print(f\"{SSE = }\")\n",
    "print(f\"{SST = }\")\n",
    "\n",
    "# calculating the f-value\n",
    "k = 2 # number of models\n",
    "df_treatment = k - 1\n",
    "df_error = N * k - k\n",
    "print(f\"{df_treatment = }\")\n",
    "print(f\"{df_error = }\")\n",
    "ms_treatment = SSR / df_treatment\n",
    "ms_error = SSE / df_error\n",
    "f_value = ms_treatment / ms_error\n",
    "print(f\"{f_value = }\")"
   ]
  },
  {
   "cell_type": "code",
   "execution_count": 79,
   "metadata": {},
   "outputs": [
    {
     "name": "stdout",
     "output_type": "stream",
     "text": [
      "f_value = 22.988693230802767\n",
      "p_value = 3.1964619978043483e-06\n"
     ]
    }
   ],
   "source": [
    "from scipy.stats import f_oneway\n",
    "f_value, p_value = f_oneway(rf_results, nn_results)\n",
    "print(f\"{f_value = }\")\n",
    "print(f\"{p_value = }\")"
   ]
  },
  {
   "cell_type": "code",
   "execution_count": 52,
   "metadata": {},
   "outputs": [
    {
     "name": "stdout",
     "output_type": "stream",
     "text": [
      "F_onewayResult(statistic=2.3575322551335636, pvalue=0.11384795345837218)\n"
     ]
    }
   ],
   "source": [
    "A = [85, 86, 88, 75, 78, 94, 98, 79, 71, 80]\n",
    "B = [91, 92, 93, 85, 87, 84, 82, 88, 95, 96]\n",
    "C = [79, 78, 88, 94, 92, 85, 83, 85, 82, 81]\n",
    "print(f_oneway(A, B, C))"
   ]
  },
  {
   "cell_type": "code",
   "execution_count": 59,
   "metadata": {},
   "outputs": [
    {
     "name": "stdout",
     "output_type": "stream",
     "text": [
      "A_mean = 83.4\n",
      "B_mean = 89.3\n",
      "C_mean = 84.7\n",
      "overall_mean = 85.8\n",
      "SSR = 192.19999999999945\n",
      "A_SSE = 640.4000000000001\n",
      "B_SSE = 208.10000000000002\n",
      "C_SSE = 252.10000000000002\n",
      "SSE = 1100.6000000000001\n",
      "SST = 1292.7999999999995\n",
      "df_treatment = 2\n",
      "df_error = 27\n",
      "ms_error = 40.762962962962966\n",
      "ms_treatment = 646.3999999999997\n",
      "f_value = 15.857532255133556\n"
     ]
    }
   ],
   "source": [
    "A_mean = st.mean(A)\n",
    "B_mean = st.mean(B)\n",
    "C_mean = st.mean(C)\n",
    "print(f\"{A_mean = }\")\n",
    "print(f\"{B_mean = }\")\n",
    "print(f\"{C_mean = }\")\n",
    "overall_mean = st.mean([A_mean, B_mean, C_mean])\n",
    "print(f\"{overall_mean = }\")\n",
    "SSR = N * sum([(m - overall_mean) ** 2 for m in [A_mean, B_mean, C_mean]])\n",
    "print(f\"{SSR = }\")\n",
    "A_SSE = sum((i - A_mean) ** 2 for i in A)\n",
    "B_SSE = sum((i - B_mean) ** 2 for i in B)\n",
    "C_SSE = sum((i - C_mean) ** 2 for i in C)\n",
    "SSE = A_SSE + B_SSE + C_SSE\n",
    "SST = SSE + SSR\n",
    "print(f\"{A_SSE = }\")\n",
    "print(f\"{B_SSE = }\")\n",
    "print(f\"{C_SSE = }\")\n",
    "print(f\"{SSE = }\")\n",
    "print(f\"{SST = }\")\n",
    "\n",
    "# calculating the f-value\n",
    "k = 3 # number of models\n",
    "df_treatment = k - 1\n",
    "df_error = 10 * k - k\n",
    "print(f\"{df_treatment = }\")\n",
    "print(f\"{df_error = }\")\n",
    "ms_treatment = SST / df_treatment\n",
    "ms_error = SSE / df_error\n",
    "f_value = ms_treatment / ms_error\n",
    "print(f\"{ms_error = }\")\n",
    "print(f\"{ms_treatment = }\")\n",
    "print(f\"{f_value = }\")"
   ]
  },
  {
   "cell_type": "code",
   "execution_count": null,
   "metadata": {},
   "outputs": [],
   "source": []
  }
 ],
 "metadata": {
  "interpreter": {
   "hash": "1667e535b8018da9161811889436fa88fd72306f3eaa3295c59e1d9dc3a5dad2"
  },
  "kernelspec": {
   "display_name": "Python 3.9.1 64-bit",
   "name": "python3"
  },
  "language_info": {
   "codemirror_mode": {
    "name": "ipython",
    "version": 3
   },
   "file_extension": ".py",
   "mimetype": "text/x-python",
   "name": "python",
   "nbconvert_exporter": "python",
   "pygments_lexer": "ipython3",
   "version": "3.9.7"
  },
  "orig_nbformat": 4
 },
 "nbformat": 4,
 "nbformat_minor": 2
}
