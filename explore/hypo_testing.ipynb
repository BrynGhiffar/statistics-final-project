{
 "cells": [
  {
   "cell_type": "markdown",
   "metadata": {},
   "source": [
    "# Statistics Final Project Hypothesis Testing"
   ]
  },
  {
   "cell_type": "markdown",
   "metadata": {},
   "source": [
    "## Opening the dataset"
   ]
  },
  {
   "cell_type": "code",
   "execution_count": 27,
   "metadata": {},
   "outputs": [
    {
     "data": {
      "text/html": [
       "<div>\n",
       "<style scoped>\n",
       "    .dataframe tbody tr th:only-of-type {\n",
       "        vertical-align: middle;\n",
       "    }\n",
       "\n",
       "    .dataframe tbody tr th {\n",
       "        vertical-align: top;\n",
       "    }\n",
       "\n",
       "    .dataframe thead th {\n",
       "        text-align: right;\n",
       "    }\n",
       "</style>\n",
       "<table border=\"1\" class=\"dataframe\">\n",
       "  <thead>\n",
       "    <tr style=\"text-align: right;\">\n",
       "      <th></th>\n",
       "      <th>Vmag</th>\n",
       "      <th>Plx</th>\n",
       "      <th>e_Plx</th>\n",
       "      <th>B-V</th>\n",
       "      <th>SpType</th>\n",
       "      <th>Amag</th>\n",
       "      <th>TargetClass</th>\n",
       "    </tr>\n",
       "  </thead>\n",
       "  <tbody>\n",
       "    <tr>\n",
       "      <th>0</th>\n",
       "      <td>10.00</td>\n",
       "      <td>31.66</td>\n",
       "      <td>6.19</td>\n",
       "      <td>1.213</td>\n",
       "      <td>K7V</td>\n",
       "      <td>22.502556</td>\n",
       "      <td>1</td>\n",
       "    </tr>\n",
       "    <tr>\n",
       "      <th>1</th>\n",
       "      <td>8.26</td>\n",
       "      <td>3.21</td>\n",
       "      <td>1.00</td>\n",
       "      <td>1.130</td>\n",
       "      <td>K0III</td>\n",
       "      <td>15.792525</td>\n",
       "      <td>0</td>\n",
       "    </tr>\n",
       "    <tr>\n",
       "      <th>2</th>\n",
       "      <td>8.27</td>\n",
       "      <td>12.75</td>\n",
       "      <td>1.06</td>\n",
       "      <td>0.596</td>\n",
       "      <td>F9V</td>\n",
       "      <td>18.797552</td>\n",
       "      <td>1</td>\n",
       "    </tr>\n",
       "    <tr>\n",
       "      <th>3</th>\n",
       "      <td>6.54</td>\n",
       "      <td>5.23</td>\n",
       "      <td>0.76</td>\n",
       "      <td>1.189</td>\n",
       "      <td>K1III</td>\n",
       "      <td>15.132508</td>\n",
       "      <td>0</td>\n",
       "    </tr>\n",
       "    <tr>\n",
       "      <th>4</th>\n",
       "      <td>8.52</td>\n",
       "      <td>0.96</td>\n",
       "      <td>0.72</td>\n",
       "      <td>0.173</td>\n",
       "      <td>B8V</td>\n",
       "      <td>13.431356</td>\n",
       "      <td>1</td>\n",
       "    </tr>\n",
       "  </tbody>\n",
       "</table>\n",
       "</div>"
      ],
      "text/plain": [
       "    Vmag    Plx  e_Plx    B-V SpType       Amag  TargetClass\n",
       "0  10.00  31.66   6.19  1.213    K7V  22.502556            1\n",
       "1   8.26   3.21   1.00  1.130  K0III  15.792525            0\n",
       "2   8.27  12.75   1.06  0.596    F9V  18.797552            1\n",
       "3   6.54   5.23   0.76  1.189  K1III  15.132508            0\n",
       "4   8.52   0.96   0.72  0.173    B8V  13.431356            1"
      ]
     },
     "execution_count": 27,
     "metadata": {},
     "output_type": "execute_result"
    }
   ],
   "source": [
    "import pandas as pd\r\n",
    "import scipy.stats as st\r\n",
    "\r\n",
    "# Imports\r\n",
    "source = lambda x : f'..\\\\star-categorization-giants-and-dwarfs\\\\{x}'\r\n",
    "\r\n",
    "X_full = pd.read_csv(source('Star39552_balanced.csv'))\r\n",
    "X_full.head()"
   ]
  },
  {
   "cell_type": "code",
   "execution_count": 6,
   "metadata": {},
   "outputs": [],
   "source": [
    "dwarfs = X_full[X_full['TargetClass'] == 0]\r\n",
    "giants = X_full[X_full['TargetClass'] == 1]"
   ]
  },
  {
   "cell_type": "code",
   "execution_count": 14,
   "metadata": {},
   "outputs": [
    {
     "name": "stdout",
     "output_type": "stream",
     "text": [
      "(19776, 7)\n",
      "(19776, 7)\n"
     ]
    }
   ],
   "source": [
    "giants.head()\r\n",
    "print(dwarfs.shape)\r\n",
    "print(giants.shape)"
   ]
  },
  {
   "cell_type": "code",
   "execution_count": 23,
   "metadata": {},
   "outputs": [
    {
     "name": "stdout",
     "output_type": "stream",
     "text": [
      "Giants\n",
      "Mean: 0.4401049757281553\tStdErr: 0.0024368948905767545\n",
      "Dwarfs\n",
      "Mean: 1.0485665453074435\tStdErr: 0.003379167572842897\n"
     ]
    }
   ],
   "source": [
    "target = 'B-V'\r\n",
    "giantsCount = giants.shape[0]\r\n",
    "dwarfsCount = dwarfs.shape[0]\r\n",
    "giantsMean = giants[target].mean()\r\n",
    "dwarfsMean = dwarfs[target].mean()\r\n",
    "giantsStdErr = giants[target].std() / (giantsCount ** 0.5)\r\n",
    "dwarfsStdErr = dwarfs[target].std() / (dwarfsCount ** 0.5)\r\n",
    "print(\"Giants\")\r\n",
    "print(f\"Mean: {giantsMean}\\tStdErr: {giantsStdErr}\")\r\n",
    "print(\"Dwarfs\")\r\n",
    "print(f\"Mean: {dwarfsMean}\\tStdErr: {dwarfsStdErr}\")"
   ]
  },
  {
   "cell_type": "markdown",
   "metadata": {},
   "source": [
    "Here we will be using the z-test due to the large number of data points. Note that around 19k data points for each category."
   ]
  },
  {
   "cell_type": "code",
   "execution_count": 28,
   "metadata": {},
   "outputs": [
    {
     "data": {
      "text/plain": [
       "(0.4353287495085152, 0.44488120194779546)"
      ]
     },
     "execution_count": 28,
     "metadata": {},
     "output_type": "execute_result"
    }
   ],
   "source": [
    "st.norm.interval(alpha=0.95, loc=giantsMean, scale=giantsStdErr)"
   ]
  },
  {
   "cell_type": "code",
   "execution_count": 30,
   "metadata": {},
   "outputs": [
    {
     "data": {
      "text/plain": [
       "(1.0419434985669458, 1.0551895920479413)"
      ]
     },
     "execution_count": 30,
     "metadata": {},
     "output_type": "execute_result"
    }
   ],
   "source": [
    "st.norm.interval(alpha=0.95, loc=dwarfsMean, scale=dwarfsStdErr)"
   ]
  },
  {
   "cell_type": "markdown",
   "metadata": {},
   "source": [
    "As we can see the confidence intervals for the giant star and dwarf star differ greatly. Furthermore we can see that there is no overlap between B-V index of these two stars. So at the 0.05 significance level, we conclude that the B-V index of dwarf stars are higher than the B-V index of giants. This means that dwarf stars are colder than giant stars. "
   ]
  },
  {
   "cell_type": "code",
   "execution_count": 31,
   "metadata": {},
   "outputs": [
    {
     "data": {
      "text/plain": [
       "<AxesSubplot:>"
      ]
     },
     "execution_count": 31,
     "metadata": {},
     "output_type": "execute_result"
    },
    {
     "data": {
      "image/png": "[encoded data removed]",
      "text/plain": [
       "<Figure size 432x288 with 1 Axes>"
      ]
     },
     "metadata": {
      "needs_background": "light"
     },
     "output_type": "display_data"
    }
   ],
   "source": [
    "giants[target].hist()"
   ]
  },
  {
   "cell_type": "code",
   "execution_count": 32,
   "metadata": {},
   "outputs": [
    {
     "data": {
      "text/plain": [
       "<AxesSubplot:>"
      ]
     },
     "execution_count": 32,
     "metadata": {},
     "output_type": "execute_result"
    },
    {
     "data": {
      "image/png": "[encoded data removed]",
      "text/plain": [
       "<Figure size 432x288 with 1 Axes>"
      ]
     },
     "metadata": {
      "needs_background": "light"
     },
     "output_type": "display_data"
    }
   ],
   "source": [
    "dwarfs[target].hist()"
   ]
  },
  {
   "cell_type": "code",
   "execution_count": null,
   "metadata": {},
   "outputs": [],
   "source": []
  }
 ],
 "metadata": {
  "interpreter": {
   "hash": "1667e535b8018da9161811889436fa88fd72306f3eaa3295c59e1d9dc3a5dad2"
  },
  "kernelspec": {
   "display_name": "Python 3.9.1 64-bit",
   "name": "python3"
  },
  "language_info": {
   "codemirror_mode": {
    "name": "ipython",
    "version": 3
   },
   "file_extension": ".py",
   "mimetype": "text/x-python",
   "name": "python",
   "nbconvert_exporter": "python",
   "pygments_lexer": "ipython3",
   "version": "3.9.1"
  },
  "orig_nbformat": 4
 },
 "nbformat": 4,
 "nbformat_minor": 2
}